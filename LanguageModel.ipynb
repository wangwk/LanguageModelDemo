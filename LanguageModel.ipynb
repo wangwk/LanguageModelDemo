{
 "cells": [
  {
   "cell_type": "markdown",
   "metadata": {
    "id": "1yW44Kxvo2SW"
   },
   "source": [
    "# 利用LSTM和GRU训练语言模型"
   ]
  },
  {
   "cell_type": "code",
   "execution_count": 1,
   "metadata": {
    "id": "aKI9QGpedjK4"
   },
   "outputs": [],
   "source": [
    "import os\n",
    "import numpy as np\n",
    "import torchtext\n",
    "from torchtext.vocab import Vectors\n",
    "from tqdm import tqdm\n",
    "\n",
    "import torch\n",
    "import torch.nn as nn\n",
    "import torch.optim as optim\n",
    "import torch.nn.functional as F"
   ]
  },
  {
   "cell_type": "code",
   "execution_count": 2,
   "metadata": {
    "id": "0c_WizXHTb5u"
   },
   "outputs": [],
   "source": [
    "# word vocab construction, idx->word, word->idx, <PAD>索引为0的部分\n",
    "def word_set_construction(file_path):\n",
    "  with open(file_path, 'r', encoding='utf-8') as f:\n",
    "    text = f.readlines()\n",
    "  words = [word for sent in text for word in sent.split()]\n",
    "  words2idx = {w : i for i, w in enumerate(words, 1)} # 0 for PAD token\n",
    "  idx2words = {i : w for i, w in enumerate(words, 1)}\n",
    "  PAD_IDX = 0\n",
    "  idx2words[PAD_IDX] = '<PAD>'\n",
    "  words2idx['<PAD>'] = PAD_IDX\n",
    "  return words, idx2words, words2idx\n",
    "\n",
    "# read corpus: sentences\n",
    "def read_corpus(file_path):\n",
    "  with open(file_path, 'r', encoding='utf-8') as f:\n",
    "    sents = f.readlines()\n",
    "  sentences = [sent.strip() for sent in sents]\n",
    "  return sentences\n",
    "\n",
    "# data samples with labels\n",
    "def samples_labels(corpus : list, words2idx, idx2words, max_len):\n",
    "  samples = []\n",
    "  labels = []\n",
    "  for sample in tqdm(corpus):\n",
    "    words = sample.split()\n",
    "    sample_words = [0] * max_len\n",
    "    for i, w in enumerate(words[:-1]):\n",
    "      sample_words[i] = words2idx[w]\n",
    "\n",
    "    target_words = [0] * max_len\n",
    "    for i, w in enumerate(words[1:]):\n",
    "      target_words[i] = words2idx[w]\n",
    "\n",
    "    samples.append(sample_words)\n",
    "    labels.append(target_words)\n",
    "\n",
    "  return samples, labels\n",
    "\n",
    "# get batches\n",
    "def get_batches(samples, labels, batch_size):\n",
    "  batch_data = []\n",
    "\n",
    "  samples_tensor = torch.tensor(samples, dtype=torch.long)\n",
    "  labels_tensor = torch.tensor(labels, dtype=torch.long)\n",
    "  num, dim = samples_tensor.size()\n",
    "\n",
    "  for start in range(0, num, batch_size):\n",
    "    end = start + batch_size\n",
    "    if end > num:\n",
    "      break\n",
    "    else:\n",
    "      batch_samples = samples_tensor[start : end]\n",
    "      batch_labels = samples_tensor[start : end]\n",
    "    \n",
    "    batch_data.append((batch_samples, batch_labels))\n",
    "\n",
    "  return batch_data\n",
    "\n",
    "## RNN-based language models\n",
    "class LM_Models(nn.Module):\n",
    "  def __init__(self, embedding_dim, hidden_dim, vocab_size, mode):\n",
    "    super().__init__()\n",
    "    self.hidden_dim = hidden_dim\n",
    "    self.word_embedding = nn.Embedding(vocab_size, embedding_dim)\n",
    "    if mode == 'LSTM' or 'lstm':\n",
    "      self.model = nn.LSTM(embedding_dim, hidden_dim, batch_first=True)\n",
    "    elif mode == 'GRU' or 'gru':\n",
    "      self.model = nn.GRU(embedding_dim, hidden_dim, batch_first=True)\n",
    "    elif mode == 'RNN' or 'rnn':\n",
    "      self.model = nn.RNN(embedding_dim, hidden_dim, batch_first=True)\n",
    "    self.hidden2word = nn.Linear(hidden_dim, vocab_size)\n",
    "\n",
    "  def forward(self, data):\n",
    "    embeds = self.word_embedding(data)\n",
    "    model_out, (h_n, c_n) = self.model(embeds)\n",
    "    target_embed = self.hidden2word(model_out.contiguous().view(-1, self.hidden_dim))\n",
    "    mask = (data != idx).view(-1)\n",
    "    pure_target = target_embed[mask]\n",
    "    target_scores = F.log_softmax(pure_target, dim=1)\n",
    "    return target_scores\n",
    "\n",
    "# evaluation \n",
    "def accuracy_score(y_hat, y):\n",
    "  y_hat = y_hat.argmax(dim=1)\n",
    "  num_pre_real = torch.eq(y_hat, y.view(-1))\n",
    "  score = num_pre_real.sum().item() / num_pre_real.size()[0]\n",
    "  return score\n",
    "\n",
    "def evaluate(model, data):\n",
    "  model.eval()\n",
    "  total_acc = 0.\n",
    "  total_count = 0.\n",
    "  for x, y in data:\n",
    "    mask = y != idx\n",
    "    pure_y = y[mask]\n",
    "    with torch.no_grad():\n",
    "      target_scores = model(x)\n",
    "    total_count += 1\n",
    "    acc = accuracy_score(target_scores, pure_y)\n",
    "    total_acc += acc\n",
    "  \n",
    "  acc = total_acc / total_count\n",
    "  # model.train()\n",
    "  return acc"
   ]
  },
  {
   "cell_type": "code",
   "execution_count": 3,
   "metadata": {
    "colab": {
     "base_uri": "https://localhost:8080/"
    },
    "id": "ppyG_LAhK5W3",
    "outputId": "0b744cb5-a76e-4792-ede1-8e5f4a3229e0"
   },
   "outputs": [
    {
     "name": "stderr",
     "output_type": "stream",
     "text": [
      "100%|██████████| 6036/6036 [00:00<00:00, 230807.55it/s]\n",
      "100%|██████████| 750/750 [00:00<00:00, 197732.60it/s]\n",
      "100%|██████████| 750/750 [00:00<00:00, 136355.79it/s]\n"
     ]
    }
   ],
   "source": [
    "# 定义文件所在路径\n",
    "vocab_file = './bobsue.voc.txt'\n",
    "train_file = './bobsue.lm.train.txt'\n",
    "val_file = './bobsue.lm.dev.txt'\n",
    "test_file = './bobsue.lm.dev.txt'\n",
    "\n",
    "MAX_LEN = 20\n",
    "BATCH_SIZE = 128\n",
    "# get vocabs\n",
    "words, idx2words, words2idx = word_set_construction(vocab_file)\n",
    "# train batches data\n",
    "train_corpus = read_corpus(train_file)\n",
    "train_samples, train_labels = samples_labels(train_corpus, words2idx, idx2words, MAX_LEN)\n",
    "train_batch_data = get_batches(train_samples, train_labels, BATCH_SIZE)\n",
    "# val batches data\n",
    "val_corpus = read_corpus(val_file)\n",
    "val_samples, val_labels = samples_labels(val_corpus, words2idx, idx2words, MAX_LEN)\n",
    "val_batch_data = get_batches(val_samples, val_labels, BATCH_SIZE)\n",
    "# test batches data\n",
    "test_corpus = read_corpus(test_file)\n",
    "test_samples, test_labels = samples_labels(test_corpus, words2idx, idx2words, MAX_LEN)\n",
    "test_batch_data = get_batches(test_samples, test_labels, BATCH_SIZE)"
   ]
  },
  {
   "cell_type": "code",
   "execution_count": 4,
   "metadata": {
    "colab": {
     "base_uri": "https://localhost:8080/"
    },
    "id": "13XccFyuWzje",
    "outputId": "96409d8a-c285-4314-e726-dc2b75d93a51"
   },
   "outputs": [
    {
     "name": "stdout",
     "output_type": "stream",
     "text": [
      "word_embedding.weight : torch.Size([1499, 200])\n",
      "model.weight_ih_l0 : torch.Size([800, 200])\n",
      "model.weight_hh_l0 : torch.Size([800, 200])\n",
      "model.bias_ih_l0 : torch.Size([800])\n",
      "model.bias_hh_l0 : torch.Size([800])\n",
      "hidden2word.weight : torch.Size([1499, 200])\n",
      "hidden2word.bias : torch.Size([1499])\n",
      "Total Num. of params： 922699\n",
      "**********************epoch:0**********************\n",
      "epoch:0 item:0 loss:7.309 acc:0.0\n",
      "epoch:0 item:20 loss:4.835 acc:0.3166\n",
      "epoch:0 item:40 loss:3.215 acc:0.5443\n",
      "Epoch:0 avg acc:0.4333\n",
      "Best model, val Accuracy: 0.5966\n",
      "Test data accuracy: 0.5966\n",
      "**********************epoch:1**********************\n",
      "epoch:1 item:0 loss:2.871 acc:0.5813\n",
      "epoch:1 item:20 loss:1.992 acc:0.7365\n",
      "epoch:1 item:40 loss:1.471 acc:0.8169\n",
      "Epoch:1 avg acc:0.7398\n",
      "Best model, val Accuracy: 0.8556\n",
      "Test data accuracy: 0.8556\n",
      "**********************epoch:2**********************\n",
      "epoch:2 item:0 loss:1.318 acc:0.849\n",
      "epoch:2 item:20 loss:0.8738 acc:0.9154\n",
      "epoch:2 item:40 loss:0.6894 acc:0.9378\n",
      "Epoch:2 avg acc:0.9077\n",
      "Best model, val Accuracy: 0.9504\n",
      "Test data accuracy: 0.9504\n",
      "**********************epoch:3**********************\n",
      "epoch:3 item:0 loss:0.6451 acc:0.9358\n",
      "epoch:3 item:20 loss:0.4084 acc:0.9686\n",
      "epoch:3 item:40 loss:0.3337 acc:0.9785\n",
      "Epoch:3 avg acc:0.9684\n",
      "Best model, val Accuracy: 0.9789\n",
      "Test data accuracy: 0.9789\n",
      "**********************epoch:4**********************\n",
      "epoch:4 item:0 loss:0.3385 acc:0.9796\n",
      "epoch:4 item:20 loss:0.2073 acc:0.9916\n",
      "epoch:4 item:40 loss:0.1712 acc:0.995\n",
      "Epoch:4 avg acc:0.9901\n",
      "Best model, val Accuracy: 0.9902\n",
      "Test data accuracy: 0.9902\n",
      "**********************epoch:5**********************\n",
      "epoch:5 item:0 loss:0.1797 acc:0.9964\n",
      "epoch:5 item:20 loss:0.1139 acc:0.9979\n",
      "epoch:5 item:40 loss:0.09362 acc:0.9986\n",
      "Epoch:5 avg acc:0.9964\n",
      "Best model, val Accuracy: 0.9956\n",
      "Test data accuracy: 0.9956\n",
      "**********************epoch:6**********************\n",
      "epoch:6 item:0 loss:0.09842 acc:0.9993\n",
      "epoch:6 item:20 loss:0.06596 acc:0.9993\n",
      "epoch:6 item:40 loss:0.05467 acc:0.9986\n",
      "Epoch:6 avg acc:0.9984\n",
      "Best model, val Accuracy: 0.9979\n",
      "Test data accuracy: 0.9979\n",
      "**********************epoch:7**********************\n",
      "epoch:7 item:0 loss:0.05699 acc:0.9993\n",
      "epoch:7 item:20 loss:0.04069 acc:0.9993\n",
      "epoch:7 item:40 loss:0.03395 acc:1.0\n",
      "Epoch:7 avg acc:0.999\n",
      "Best model, val Accuracy: 0.999\n",
      "Test data accuracy: 0.999\n",
      "**********************epoch:8**********************\n",
      "epoch:8 item:0 loss:0.03587 acc:0.9993\n",
      "epoch:8 item:20 loss:0.02727 acc:1.0\n",
      "epoch:8 item:40 loss:0.02269 acc:1.0\n",
      "Epoch:8 avg acc:0.9995\n",
      "Best model, val Accuracy: 0.9994\n",
      "Test data accuracy: 0.9994\n",
      "**********************epoch:9**********************\n",
      "epoch:9 item:0 loss:0.02495 acc:1.0\n",
      "epoch:9 item:20 loss:0.01979 acc:1.0\n",
      "epoch:9 item:40 loss:0.01642 acc:1.0\n",
      "Epoch:9 avg acc:0.9999\n",
      "Best model, val Accuracy: 0.9996\n",
      "Test data accuracy: 0.9996\n"
     ]
    }
   ],
   "source": [
    "# function to train\n",
    "EMBEDDING_DIM = 200\n",
    "HIDDEN_DIM = 200\n",
    "MODE = 'LSTM'\n",
    "model = LM_Models(EMBEDDING_DIM, HIDDEN_DIM, len(words2idx), mode=MODE)\n",
    "GRAD_CLIP = 5.\n",
    "NUM_EPOCHS = 10\n",
    "LR = 0.001\n",
    "\n",
    "val_acces = []\n",
    "loss_function = nn.NLLLoss()\n",
    "optimizer = optim.Adam(model.parameters(), lr=LR)\n",
    "scheduler = optim.lr_scheduler.ExponentialLR(optimizer, 0.5)\n",
    "\n",
    "Model_Save_Name = 'LM-' + MODE + '-best.pth'\n",
    "# print parameters\n",
    "sum_ = 0\n",
    "for name, param in model.named_parameters():\n",
    "  mul = 1\n",
    "  for size_ in param.shape:\n",
    "    mul *= size_\n",
    "  sum_ += mul\n",
    "  print('%14s : %s' % (name, param.shape))\n",
    "print('Total Num. of params：', sum_)\n",
    "\n",
    "# train, val and test\n",
    "for epoch in range(NUM_EPOCHS):\n",
    "  model.train()\n",
    "  print('epoch:{}'.format(epoch).center(51, '*'))\n",
    "  idx = 0\n",
    "  acc_list = []\n",
    "  for i, (x, y) in enumerate(train_batch_data):  # x: train, y: label\n",
    "    mask = y != idx\n",
    "    pure_y = y[mask]\n",
    "    # feedforward\n",
    "    model.zero_grad()\n",
    "    target_scores = model(x)\n",
    "    acc = accuracy_score(target_scores, pure_y)\n",
    "    acc_list.append(acc)\n",
    "    # loss function\n",
    "    loss = loss_function(target_scores, pure_y)\n",
    "    # backpropagagtion\n",
    "    loss.backward()\n",
    "    # optim\n",
    "    torch.nn.utils.clip_grad_norm_(model.parameters(), GRAD_CLIP)\n",
    "    optimizer.step()\n",
    "    if i % 20 == 0:\n",
    "      print('epoch:{} item:{} loss:{:.4} acc:{:.4}'.format(epoch, i, loss.item(), acc))\n",
    "\n",
    "  print('Epoch:{} avg acc:{:.4}'.format(epoch, sum(acc_list)/len(acc_list)))\n",
    "\n",
    "  # eval\n",
    "  val_acc = evaluate(model, val_batch_data)\n",
    "  if len(val_acces) == 0 or val_acc > max(val_acces):\n",
    "    print('Best model, val Accuracy: {:.4}'.format(val_acc))\n",
    "    torch.save(model.state_dict(), Model_Save_Name)\n",
    "  else:\n",
    "    print('Current val Accuracy: {:.4}'.format(val_acc))\n",
    "    scheduler.step()\n",
    "  val_acces.append(val_acc)\n",
    "\n",
    "  # test\n",
    "  test_acc = evaluate(model, test_batch_data)\n",
    "  print('Test data accuracy: {:.4}'.format(test_acc))"
   ]
  },
  {
   "cell_type": "code",
   "execution_count": 5,
   "metadata": {
    "id": "3bn8tXD-_uao"
   },
   "outputs": [],
   "source": [
    "# print incorrect prediction\n",
    "def print_incorrect_prediction(model, data):\n",
    "  model.eval()\n",
    "  incorrect_words = []\n",
    "  for x, y in data:\n",
    "    mask = [y != 0]\n",
    "    y = y[mask]\n",
    "    with torch.no_grad():\n",
    "      target_scores = model(x)\n",
    "    y_hat = target_scores.argmax(dim=1)\n",
    "\n",
    "    for i, j in zip(y_hat.tolist(), y.tolist()):\n",
    "      if i != j:\n",
    "        incorrect_words.append('|'.join([idx2words[i], idx2words[j]]))\n",
    "  return incorrect_words"
   ]
  },
  {
   "cell_type": "code",
   "execution_count": 6,
   "metadata": {
    "colab": {
     "base_uri": "https://localhost:8080/"
    },
    "id": "K3oYVG_-TFG_",
    "outputId": "fdfe0089-5a62-4265-fee3-a23999cfc362"
   },
   "outputs": [
    {
     "name": "stdout",
     "output_type": "stream",
     "text": [
      "birthday|bags\n",
      "meeting|calling\n",
      ".|fresh\n"
     ]
    }
   ],
   "source": [
    "model.load_state_dict(torch.load(Model_Save_Name))\n",
    "incorrect_predictions = print_incorrect_prediction(model, test_batch_data)\n",
    "for inc_pred in incorrect_predictions:\n",
    "  print(inc_pred)"
   ]
  },
  {
   "cell_type": "code",
   "execution_count": 6,
   "metadata": {
    "id": "gtTNP35mDrbM"
   },
   "outputs": [],
   "source": []
  }
 ],
 "metadata": {
  "accelerator": "GPU",
  "colab": {
   "collapsed_sections": [],
   "name": "LanguageModel.ipynb",
   "provenance": []
  },
  "kernelspec": {
   "display_name": "Python 3",
   "language": "python",
   "name": "python3"
  },
  "language_info": {
   "codemirror_mode": {
    "name": "ipython",
    "version": 3
   },
   "file_extension": ".py",
   "mimetype": "text/x-python",
   "name": "python",
   "nbconvert_exporter": "python",
   "pygments_lexer": "ipython3",
   "version": "3.7.0"
  },
  "latex_envs": {
   "LaTeX_envs_menu_present": true,
   "autoclose": false,
   "autocomplete": true,
   "bibliofile": "biblio.bib",
   "cite_by": "apalike",
   "current_citInitial": 1,
   "eqLabelWithNumbers": true,
   "eqNumInitial": 1,
   "hotkeys": {
    "equation": "Ctrl-E",
    "itemize": "Ctrl-I"
   },
   "labels_anchors": false,
   "latex_user_defs": false,
   "report_style_numbering": false,
   "user_envs_cfg": false
  },
  "toc": {
   "base_numbering": 1,
   "nav_menu": {},
   "number_sections": true,
   "sideBar": true,
   "skip_h1_title": false,
   "title_cell": "Table of Contents",
   "title_sidebar": "Contents",
   "toc_cell": false,
   "toc_position": {},
   "toc_section_display": true,
   "toc_window_display": false
  },
  "varInspector": {
   "cols": {
    "lenName": 16,
    "lenType": 16,
    "lenVar": 40
   },
   "kernels_config": {
    "python": {
     "delete_cmd_postfix": "",
     "delete_cmd_prefix": "del ",
     "library": "var_list.py",
     "varRefreshCmd": "print(var_dic_list())"
    },
    "r": {
     "delete_cmd_postfix": ") ",
     "delete_cmd_prefix": "rm(",
     "library": "var_list.r",
     "varRefreshCmd": "cat(var_dic_list()) "
    }
   },
   "types_to_exclude": [
    "module",
    "function",
    "builtin_function_or_method",
    "instance",
    "_Feature"
   ],
   "window_display": false
  }
 },
 "nbformat": 4,
 "nbformat_minor": 1
}
